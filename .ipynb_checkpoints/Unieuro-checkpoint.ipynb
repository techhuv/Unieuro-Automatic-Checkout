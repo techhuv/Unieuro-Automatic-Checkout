{
 "cells": [
  {
   "cell_type": "code",
   "execution_count": 1,
   "metadata": {
    "scrolled": false
   },
   "outputs": [
    {
     "data": {
      "text/html": [
       "<div>\n",
       "<style scoped>\n",
       "    .dataframe tbody tr th:only-of-type {\n",
       "        vertical-align: middle;\n",
       "    }\n",
       "\n",
       "    .dataframe tbody tr th {\n",
       "        vertical-align: top;\n",
       "    }\n",
       "\n",
       "    .dataframe thead th {\n",
       "        text-align: right;\n",
       "    }\n",
       "</style>\n",
       "<table border=\"1\" class=\"dataframe\">\n",
       "  <thead>\n",
       "    <tr style=\"text-align: right;\">\n",
       "      <th></th>\n",
       "      <th>PRODUCT</th>\n",
       "      <th>EMAIL</th>\n",
       "    </tr>\n",
       "  </thead>\n",
       "  <tbody>\n",
       "    <tr>\n",
       "      <th>0</th>\n",
       "      <td>https://www.unieuro.it/online/Console-Nintendo...</td>\n",
       "      <td>unieuro@omegamails.com:Test12345</td>\n",
       "    </tr>\n",
       "    <tr>\n",
       "      <th>1</th>\n",
       "      <td>https://www.unieuro.it/online/Console-Playstat...</td>\n",
       "      <td>unieuro2@omegamails.com:Test12345</td>\n",
       "    </tr>\n",
       "  </tbody>\n",
       "</table>\n",
       "</div>"
      ],
      "text/plain": [
       "                                             PRODUCT  \\\n",
       "0  https://www.unieuro.it/online/Console-Nintendo...   \n",
       "1  https://www.unieuro.it/online/Console-Playstat...   \n",
       "\n",
       "                               EMAIL  \n",
       "0   unieuro@omegamails.com:Test12345  \n",
       "1  unieuro2@omegamails.com:Test12345  "
      ]
     },
     "execution_count": 1,
     "metadata": {},
     "output_type": "execute_result"
    }
   ],
   "source": [
    "import pandas as pd\n",
    "df = pd.read_csv('unieuro.csv')\n",
    "df"
   ]
  },
  {
   "cell_type": "code",
   "execution_count": 2,
   "metadata": {},
   "outputs": [],
   "source": [
    "import re\n",
    "password=[]\n",
    "email=[]\n",
    "for i in df['EMAIL']:\n",
    "    a=re.split(\":\", i)\n",
    "    password.append(a[1])\n",
    "    email.append(a[0])"
   ]
  },
  {
   "cell_type": "code",
   "execution_count": 3,
   "metadata": {},
   "outputs": [
    {
     "data": {
      "text/html": [
       "<div>\n",
       "<style scoped>\n",
       "    .dataframe tbody tr th:only-of-type {\n",
       "        vertical-align: middle;\n",
       "    }\n",
       "\n",
       "    .dataframe tbody tr th {\n",
       "        vertical-align: top;\n",
       "    }\n",
       "\n",
       "    .dataframe thead th {\n",
       "        text-align: right;\n",
       "    }\n",
       "</style>\n",
       "<table border=\"1\" class=\"dataframe\">\n",
       "  <thead>\n",
       "    <tr style=\"text-align: right;\">\n",
       "      <th></th>\n",
       "      <th>PRODUCT</th>\n",
       "      <th>EMAIL</th>\n",
       "      <th>password</th>\n",
       "    </tr>\n",
       "  </thead>\n",
       "  <tbody>\n",
       "    <tr>\n",
       "      <th>0</th>\n",
       "      <td>https://www.unieuro.it/online/Console-Nintendo...</td>\n",
       "      <td>unieuro@omegamails.com</td>\n",
       "      <td>Test12345</td>\n",
       "    </tr>\n",
       "    <tr>\n",
       "      <th>1</th>\n",
       "      <td>https://www.unieuro.it/online/Console-Playstat...</td>\n",
       "      <td>unieuro2@omegamails.com</td>\n",
       "      <td>Test12345</td>\n",
       "    </tr>\n",
       "  </tbody>\n",
       "</table>\n",
       "</div>"
      ],
      "text/plain": [
       "                                             PRODUCT                    EMAIL  \\\n",
       "0  https://www.unieuro.it/online/Console-Nintendo...   unieuro@omegamails.com   \n",
       "1  https://www.unieuro.it/online/Console-Playstat...  unieuro2@omegamails.com   \n",
       "\n",
       "    password  \n",
       "0  Test12345  \n",
       "1  Test12345  "
      ]
     },
     "execution_count": 3,
     "metadata": {},
     "output_type": "execute_result"
    }
   ],
   "source": [
    "df['EMAIL'] = email\n",
    "df['password'] = password\n",
    "df"
   ]
  },
  {
   "cell_type": "markdown",
   "metadata": {},
   "source": [
    "### df"
   ]
  },
  {
   "cell_type": "code",
   "execution_count": 4,
   "metadata": {},
   "outputs": [],
   "source": [
    "import webbrowser\n",
    "\n",
    "from bs4 import BeautifulSoup, NavigableString, Tag \n",
    "from selenium.webdriver.chrome.options import Options\n",
    "from selenium import webdriver\n",
    "import  os\n",
    "from selenium.webdriver.common.by import By\n",
    "from selenium.webdriver.support.ui import WebDriverWait\n",
    "from selenium.webdriver.support import expected_conditions as EC\n",
    "import sys\n",
    "from webdriver_manager.chrome import ChromeDriverManager\n",
    "from selenium.webdriver.support.select import Select\n",
    "chrome_options = Options()\n",
    "import time\n",
    "from selenium.webdriver.common.action_chains import ActionChains\n"
   ]
  },
  {
   "cell_type": "code",
   "execution_count": null,
   "metadata": {},
   "outputs": [],
   "source": []
  },
  {
   "cell_type": "code",
   "execution_count": 5,
   "metadata": {},
   "outputs": [],
   "source": [
    "prefs = {\"profile.default_content_setting_values.notifications\" : 2}  #block notifications\n",
    "chrome_options.add_experimental_option(\"prefs\",prefs)\n",
    "chrome_options.add_argument(\"--no-sandbox\")\n",
    "# chrome_options.add_argument(\"--headless\")\n",
    "chrome_options.add_argument(\"--disable-setuid-sandbox\")\n",
    "chrome_options.add_argument(\"--disable-dev-shm-usage\")\n",
    "chrome_options.add_argument('--disable-features=VizDisplayCompositor')\n",
    "# driver = webdriver.Chrome(ChromeDriverManager().install(),options=chrome_options)\n"
   ]
  },
  {
   "cell_type": "code",
   "execution_count": 6,
   "metadata": {},
   "outputs": [],
   "source": [
    "def try_again(a):\n",
    "    print(a)"
   ]
  },
  {
   "cell_type": "code",
   "execution_count": 7,
   "metadata": {},
   "outputs": [],
   "source": [
    "def final_checkout():\n",
    "    try:\n",
    "        driver.implicitly_wait(30)\n",
    "        cod = '/html/body/div[1]/div/div[2]/div[2]/div/section[1]/div[3]/div/div[1]/span[2]'\n",
    "\n",
    "        address = '/html/body/div[1]/div/div[2]/div[2]/div/section[3]/article/section[1]/div[2]/div[2]/div/div/span[1]/label'\n",
    "        endgame = '/html/body/div[1]/div/div[2]/div[2]/div/section[3]/article/form/section/div[2]/font[1]/font/font/font/input'\n",
    "        \n",
    "        driver.find_element_by_xpath(cod).click()\n",
    "        driver.implicitly_wait(5)\n",
    "        driver.find_element_by_xpath(address).click()\n",
    "        driver.implicitly_wait(3)\n",
    "#         driver.find_element_by_xpath(endgame).click() <-- dont uncomment this\n",
    "    except:\n",
    "        try_again(\"final_check\")\n",
    "        \n",
    "# final_checkout()"
   ]
  },
  {
   "cell_type": "code",
   "execution_count": 8,
   "metadata": {},
   "outputs": [],
   "source": [
    "def login(e,p):\n",
    "    try:\n",
    "        \n",
    "        mail = '/html/body/div[1]/div/div[2]/div[1]/div/section/div[1]/form/div[1]/input'\n",
    "        passw = '/html/body/div[1]/div/div[2]/div[1]/div/section/div[1]/form/div[2]/input'\n",
    "        enter = '/html/body/div[1]/div/div[2]/div[1]/div/section/div[1]/form/div[3]/input'\n",
    "\n",
    "        driver.find_element_by_xpath(mail).send_keys(e)\n",
    "        driver.find_element_by_xpath(passw).send_keys(p)\n",
    "        driver.find_element_by_xpath(enter).click()\n",
    "        \n",
    "        driver.implicitly_wait(30)\n",
    "        \n",
    "        check = driver.find_element_by_link_text(\"Vai alla cassa\")\n",
    "        resp = check.is_displayed()\n",
    "        if(resp):\n",
    "            check.click()\n",
    "        \n",
    "        final_checkout()\n",
    "\n",
    "    except:\n",
    "        pass"
   ]
  },
  {
   "cell_type": "code",
   "execution_count": 9,
   "metadata": {},
   "outputs": [],
   "source": [
    "def check_out(e,p):\n",
    "    try:\n",
    "        element = driver.find_element_by_link_text(\"No, grazie\")\n",
    "        thanks = element.is_displayed()\n",
    "        if(thanks):\n",
    "            element.click()\n",
    "            \n",
    "        driver.implicitly_wait(20)   \n",
    "        \n",
    "        final = driver.find_element_by_link_text(\"Vai alla cassa\")\n",
    "        resp = final.is_displayed()\n",
    "        if(resp):\n",
    "            final.click()\n",
    "        \n",
    "        login(e,p)\n",
    "    except:\n",
    "        pass\n",
    "    \n"
   ]
  },
  {
   "cell_type": "code",
   "execution_count": null,
   "metadata": {},
   "outputs": [],
   "source": []
  },
  {
   "cell_type": "code",
   "execution_count": 10,
   "metadata": {},
   "outputs": [],
   "source": [
    "def available(e,p):\n",
    "#     a ='/html/body/div[1]/div[2]/div[1]/section/div[1]/div/div'\n",
    "#     b = driver.find_element_by_xpath(a).text\n",
    "#     if(b == 'ORDINABILE PREVIA VERIFICA DISPONIBILITÀ' or b=='ORDINABILE'):\n",
    "#         check_out()\n",
    "        \n",
    "#     else:\n",
    "#         try_again()\n",
    "\n",
    "    time.sleep(5)\n",
    "    try:\n",
    "        \n",
    "        accept = driver.find_element_by_xpath('//*[@id=\"onetrust-accept-btn-handler\"]')\n",
    "        yes=accept.is_displayed()\n",
    "        if(yes):\n",
    "            accept.click()\n",
    "    except:\n",
    "        pass \n",
    "    \n",
    "    try:\n",
    "        element = driver.find_element_by_link_text(\"Aggiungi al carrello\")\n",
    "        # print value\n",
    "        yes=element.is_displayed()\n",
    "        if(yes):\n",
    "            element.click()\n",
    "            time.sleep(1)\n",
    "            check_out(e,p)\n",
    "    except:\n",
    "        try_again(\"product not avai\")    \n",
    "    \n",
    "    "
   ]
  },
  {
   "cell_type": "code",
   "execution_count": null,
   "metadata": {},
   "outputs": [],
   "source": []
  },
  {
   "cell_type": "code",
   "execution_count": null,
   "metadata": {},
   "outputs": [],
   "source": []
  },
  {
   "cell_type": "code",
   "execution_count": null,
   "metadata": {},
   "outputs": [],
   "source": []
  },
  {
   "cell_type": "code",
   "execution_count": 11,
   "metadata": {},
   "outputs": [
    {
     "name": "stderr",
     "output_type": "stream",
     "text": [
      "[WDM] - Current google-chrome version is 89.0.4389\n",
      "[WDM] - Get LATEST driver version for 89.0.4389\n",
      "[WDM] - Driver [/home/user/.wdm/drivers/chromedriver/linux64/89.0.4389.23/chromedriver] found in cache\n"
     ]
    },
    {
     "name": "stdout",
     "output_type": "stream",
     "text": [
      " \n",
      "final_check\n"
     ]
    },
    {
     "name": "stderr",
     "output_type": "stream",
     "text": [
      "[WDM] - Current google-chrome version is 89.0.4389\n",
      "[WDM] - Get LATEST driver version for 89.0.4389\n",
      "[WDM] - Driver [/home/user/.wdm/drivers/chromedriver/linux64/89.0.4389.23/chromedriver] found in cache\n"
     ]
    },
    {
     "name": "stdout",
     "output_type": "stream",
     "text": [
      " \n",
      "product not avai\n"
     ]
    }
   ],
   "source": [
    "for i in range(len(df)):\n",
    "    driver = webdriver.Chrome(ChromeDriverManager().install(),options=chrome_options)\n",
    "    driver.get(df['PRODUCT'][i])\n",
    "\n",
    "#     driver.maximize_window()\n",
    "#     driver.implicitly_wait(20)\n",
    "    available(df['EMAIL'][i],df['password'][i])\n",
    "    driver.close()\n",
    "    time.sleep(3)"
   ]
  },
  {
   "cell_type": "code",
   "execution_count": 12,
   "metadata": {},
   "outputs": [],
   "source": [
    "\n",
    "#     login = '/html/body/div[1]/header/section[2]/span[2]/div[2]/a'\n",
    "# mail = '/html/body/div[1]/div[2]/div[2]/section[1]/div[1]/form/div[1]/input'\n",
    "# passw = '/html/body/div[1]/divcheck = driver.find_element_by_link_text(\"RITIRA IN\")\n",
    "\n",
    "\n",
    "#     driver.find_element_by_xpath(login).send_keys(df['EMAIL'][i])\n",
    "#     driver.find_element_by_xpath(passw).send_keys(df['PASSWORD'][i])\n",
    "#     //*[@id=\"features\"]/div[2]/section[3]/article[2]/div/div/div[2]/a[1]\n",
    "\n"
   ]
  },
  {
   "cell_type": "code",
   "execution_count": 13,
   "metadata": {},
   "outputs": [],
   "source": [
    "# https://realpython.com/modern-web-automation-with-python-and-selenium/\n",
    "# https://stackoverflow.com/questions/66303178/python-selenium-headless-threading\n",
    "# https://testdriven.io/blog/building-a-concurrent-web-scraper-with-python-and-selenium/\n",
    "# https://python-forum.io/Thread-How-to-run-multiple-threads-with-selenium\n",
    "# https://stackoverflow.com/questions/62007674/multi-thread-requests-python3"
   ]
  },
  {
   "cell_type": "code",
   "execution_count": null,
   "metadata": {},
   "outputs": [],
   "source": [
    "class Scrape:\n",
    "    def __init__(self):\n",
    "        self.df=df\n",
    "    def Start():\n",
    "        \n",
    "        "
   ]
  },
  {
   "cell_type": "code",
   "execution_count": null,
   "metadata": {},
   "outputs": [],
   "source": []
  }
 ],
 "metadata": {
  "kernelspec": {
   "display_name": "Python 3",
   "language": "python",
   "name": "python3"
  },
  "language_info": {
   "codemirror_mode": {
    "name": "ipython",
    "version": 3
   },
   "file_extension": ".py",
   "mimetype": "text/x-python",
   "name": "python",
   "nbconvert_exporter": "python",
   "pygments_lexer": "ipython3",
   "version": "3.6.9"
  }
 },
 "nbformat": 4,
 "nbformat_minor": 4
}
