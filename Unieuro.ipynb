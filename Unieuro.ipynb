{
 "cells": [
  {
   "cell_type": "code",
   "execution_count": 88,
   "metadata": {},
   "outputs": [],
   "source": [
    "# import pandas as pd\n",
    "# df = pd.read_csv('unieuro.csv')\n",
    "# df"
   ]
  },
  {
   "cell_type": "code",
   "execution_count": 89,
   "metadata": {},
   "outputs": [],
   "source": [
    "# import re\n",
    "# password=[]\n",
    "# email=[]\n",
    "# for i in df['EMAIL']:\n",
    "#     a=re.split(\":\", i)\n",
    "#     password.append(a[1])\n",
    "#     email.append(a[0])"
   ]
  },
  {
   "cell_type": "code",
   "execution_count": 90,
   "metadata": {},
   "outputs": [],
   "source": [
    "# df['EMAIL'] = email\n",
    "# df['password'] = password\n",
    "# df"
   ]
  },
  {
   "cell_type": "markdown",
   "metadata": {},
   "source": [
    "### df"
   ]
  },
  {
   "cell_type": "code",
   "execution_count": 91,
   "metadata": {},
   "outputs": [],
   "source": [
    "import webbrowser\n",
    "\n",
    "from bs4 import BeautifulSoup, NavigableString, Tag \n",
    "from selenium.webdriver.chrome.options import Options\n",
    "from selenium import webdriver\n",
    "import  os\n",
    "from selenium.webdriver.common.by import By\n",
    "from selenium.webdriver.support.ui import WebDriverWait\n",
    "from selenium.webdriver.support import expected_conditions as EC\n",
    "import sys\n",
    "from webdriver_manager.chrome import ChromeDriverManager\n",
    "from selenium.webdriver.support.select import Select\n",
    "chrome_options = Options()\n",
    "import time\n",
    "from selenium.webdriver.common.action_chains import ActionChains\n"
   ]
  },
  {
   "cell_type": "code",
   "execution_count": null,
   "metadata": {},
   "outputs": [],
   "source": []
  },
  {
   "cell_type": "code",
   "execution_count": 92,
   "metadata": {},
   "outputs": [
    {
     "name": "stderr",
     "output_type": "stream",
     "text": [
      "[WDM] - Current google-chrome version is 90.0.4430\n",
      "[WDM] - Get LATEST driver version for 90.0.4430\n",
      "[WDM] - Driver [C:\\Users\\STARK\\.wdm\\drivers\\chromedriver\\win32\\90.0.4430.24\\chromedriver.exe] found in cache\n"
     ]
    },
    {
     "name": "stdout",
     "output_type": "stream",
     "text": [
      " \n"
     ]
    }
   ],
   "source": [
    "prefs = {\"profile.default_content_setting_values.notifications\" : 2}  #block notifications\n",
    "chrome_options.add_experimental_option(\"prefs\",prefs)\n",
    "chrome_options.add_argument(\"--no-sandbox\")\n",
    "# chrome_options.add_argument(\"--headless\")\n",
    "chrome_options.add_argument(\"--disable-setuid-sandbox\")\n",
    "chrome_options.add_argument(\"--disable-dev-shm-usage\")\n",
    "chrome_options.add_argument('--disable-features=VizDisplayCompositor')\n",
    "driver = webdriver.Chrome(ChromeDriverManager().install(),options=chrome_options)\n"
   ]
  },
  {
   "cell_type": "code",
   "execution_count": 93,
   "metadata": {},
   "outputs": [],
   "source": [
    "def try_again():\n",
    "    print(\"try again\")"
   ]
  },
  {
   "cell_type": "code",
   "execution_count": 94,
   "metadata": {},
   "outputs": [],
   "source": [
    "def final_checkout():\n",
    "    try:\n",
    "        cod = '/html/body/div[1]/div/div[2]/div[2]/div/section[1]/div[3]/div/div[1]'\n",
    "        address = '/html/body/div[1]/div/div[2]/div[2]/div/section[3]/article/section[1]/div[2]/div[2]/div/div/span[1]/label'\n",
    "        endgame = '/html/body/div[1]/div/div[2]/div[2]/div/section[3]/article/form/section/div[2]/font[1]/font/font/font/input'\n",
    "        \n",
    "        driver.find_element_by_xpath(cod).click()\n",
    "        driver.implicitly_wait(5)\n",
    "        driver.find_element_by_xpath(address).click()\n",
    "        driver.implicitly_wait(3)\n",
    "#         driver.find_element_by_xpath(endgame).click() <-- dont uncomment this\n",
    "    except:\n",
    "        try_again()\n",
    "        "
   ]
  },
  {
   "cell_type": "code",
   "execution_count": 95,
   "metadata": {},
   "outputs": [],
   "source": [
    "def login(e,p):\n",
    "    try:\n",
    "        \n",
    "        mail = '/html/body/div[1]/div/div[2]/div[1]/div/section/div[1]/form/div[1]/input'\n",
    "        passw = '/html/body/div[1]/div/div[2]/div[1]/div/section/div[1]/form/div[2]/input'\n",
    "        enter = '/html/body/div[1]/div/div[2]/div[1]/div/section/div[1]/form/div[3]/input'\n",
    "\n",
    "        driver.find_element_by_xpath(mail).send_keys(e)\n",
    "        driver.find_element_by_xpath(passw).send_keys(p)\n",
    "        driver.find_element_by_xpath(enter).click()\n",
    "        \n",
    "        driver.implicitly_wait(20)\n",
    "        \n",
    "        check = driver.find_element_by_link_text(\"Vai alla cassa\")\n",
    "        resp = check.is_displayed()\n",
    "        if(resp):\n",
    "            check.click()\n",
    "        \n",
    "        final_checkout()\n",
    "\n",
    "    except:\n",
    "        pass"
   ]
  },
  {
   "cell_type": "code",
   "execution_count": 96,
   "metadata": {},
   "outputs": [],
   "source": [
    "def check_out(e,p):\n",
    "    try:\n",
    "        element = driver.find_element_by_link_text(\"No, grazie\")\n",
    "        thanks = element.is_displayed()\n",
    "        if(thanks):\n",
    "            element.click()\n",
    "            \n",
    "        driver.implicitly_wait(20)   \n",
    "        \n",
    "        final = driver.find_element_by_link_text(\"Vai alla cassa\")\n",
    "        resp = final.is_displayed()\n",
    "        if(resp):\n",
    "            final.click()\n",
    "        \n",
    "        login(e,p)\n",
    "    except:\n",
    "        pass\n",
    "    \n"
   ]
  },
  {
   "cell_type": "code",
   "execution_count": null,
   "metadata": {},
   "outputs": [],
   "source": []
  },
  {
   "cell_type": "code",
   "execution_count": 97,
   "metadata": {},
   "outputs": [],
   "source": [
    "def available(e,p):\n",
    "#     a ='/html/body/div[1]/div[2]/div[1]/section/div[1]/div/div'\n",
    "#     b = driver.find_element_by_xpath(a).text\n",
    "#     if(b == 'ORDINABILE PREVIA VERIFICA DISPONIBILITÀ' or b=='ORDINABILE'):\n",
    "#         check_out()\n",
    "        \n",
    "#     else:\n",
    "#         try_again()\n",
    "\n",
    "    time.sleep(5)\n",
    "    try:\n",
    "        \n",
    "        accept = driver.find_element_by_xpath('//*[@id=\"onetrust-accept-btn-handler\"]')\n",
    "        yes=accept.is_displayed()\n",
    "        if(yes):\n",
    "            accept.click()\n",
    "    except:\n",
    "        pass \n",
    "    \n",
    "    try:\n",
    "        element = driver.find_element_by_link_text(\"Aggiungi al carrello\")\n",
    "        # print value\n",
    "        yes=element.is_displayed()\n",
    "        if(yes):\n",
    "            element.click()\n",
    "            time.sleep(1)\n",
    "            check_out(e,p)\n",
    "    except:\n",
    "        try_again()    \n",
    "    \n",
    "    "
   ]
  },
  {
   "cell_type": "code",
   "execution_count": 98,
   "metadata": {},
   "outputs": [],
   "source": [
    "# d = ['https://www.unieuro.it/online/MacMini/Mac-mini-Chip-M1-con-GPU-8-core-256GB-SSD-8GB-RAM---Argento-2020-pidAPLMGNR3TA', 'https://www.unieuro.it/online/MacBook/MacBook-Pro-13-Chip-M1-con-GPU-8-core-512GB-SSD-8GB-RAM---Argento-2020-pidAPLMYDC2TA','https://www.unieuro.it/online/MacBook/MacBook-Air-13-Chip-M1-con-GPU-7-core-256GB-SSD-8GB-RAM---Grigio-Siderale-2020-pidAPLMGN63TA']"
   ]
  },
  {
   "cell_type": "code",
   "execution_count": 99,
   "metadata": {},
   "outputs": [],
   "source": [
    "d = ['https://www.unieuro.it/online/MacBook/MacBook-Air-13-Chip-M1-con-GPU-7-core-256GB-SSD-8GB-RAM---Grigio-Siderale-2020-pidAPLMGN63TA']"
   ]
  },
  {
   "cell_type": "code",
   "execution_count": null,
   "metadata": {},
   "outputs": [],
   "source": []
  },
  {
   "cell_type": "code",
   "execution_count": 100,
   "metadata": {},
   "outputs": [],
   "source": [
    "for i in d:\n",
    "    \n",
    "#     driver.get(\"https://www.unieuro.it/online/Internet-TV/TS-UP-T2HD-pidTEE21005315\")\n",
    "#     driver.get(df['PRODUCT'][i])\n",
    "#     print(df['PRODUCT'][i])\n",
    "    \n",
    "    driver.get(i)\n",
    "\n",
    "#     driver.maximize_window()\n",
    "#     driver.implicitly_wait(20)\n",
    "    available('unieuro@omegamails.com','Test12345')\n",
    "    time.sleep(3)"
   ]
  },
  {
   "cell_type": "code",
   "execution_count": 101,
   "metadata": {},
   "outputs": [],
   "source": [
    "\n",
    "#     login = '/html/body/div[1]/header/section[2]/span[2]/div[2]/a'\n",
    "# mail = '/html/body/div[1]/div[2]/div[2]/section[1]/div[1]/form/div[1]/input'\n",
    "# passw = '/html/body/div[1]/div[2]/div[2]/section[1]/div[1]/form/div[2]/input'\n",
    "\n",
    "#     driver.find_element_by_xpath(login).send_keys(df['EMAIL'][i])\n",
    "#     driver.find_element_by_xpath(passw).send_keys(df['PASSWORD'][i])\n",
    "#     //*[@id=\"features\"]/div[2]/section[3]/article[2]/div/div/div[2]/a[1]\n",
    "\n"
   ]
  },
  {
   "cell_type": "code",
   "execution_count": 102,
   "metadata": {},
   "outputs": [],
   "source": [
    "# https://realpython.com/modern-web-automation-with-python-and-selenium/\n",
    "# https://stackoverflow.com/questions/66303178/python-selenium-headless-threading\n",
    "# https://testdriven.io/blog/building-a-concurrent-web-scraper-with-python-and-selenium/\n",
    "# https://python-forum.io/Thread-How-to-run-multiple-threads-with-selenium\n",
    "# https://stackoverflow.com/questions/62007674/multi-thread-requests-python3"
   ]
  },
  {
   "cell_type": "code",
   "execution_count": null,
   "metadata": {},
   "outputs": [],
   "source": []
  }
 ],
 "metadata": {
  "kernelspec": {
   "display_name": "Python 3",
   "language": "python",
   "name": "python3"
  },
  "language_info": {
   "codemirror_mode": {
    "name": "ipython",
    "version": 3
   },
   "file_extension": ".py",
   "mimetype": "text/x-python",
   "name": "python",
   "nbconvert_exporter": "python",
   "pygments_lexer": "ipython3",
   "version": "3.8.5"
  }
 },
 "nbformat": 4,
 "nbformat_minor": 4
}
